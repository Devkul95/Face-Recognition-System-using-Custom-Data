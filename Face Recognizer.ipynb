{
 "cells": [
  {
   "cell_type": "markdown",
   "metadata": {},
   "source": [
    "## Webcam Detection"
   ]
  },
  {
   "cell_type": "code",
   "execution_count": 1,
   "metadata": {},
   "outputs": [
    {
     "name": "stderr",
     "output_type": "stream",
     "text": [
      "Using TensorFlow backend.\n"
     ]
    }
   ],
   "source": [
    "from keras.applications.vgg16 import preprocess_input\n",
    "import base64\n",
    "from io import BytesIO\n",
    "import json\n",
    "import random\n",
    "import cv2\n",
    "from keras.models import load_model\n",
    "import numpy as np\n",
    "from keras.preprocessing import image\n",
    "from PIL import Image"
   ]
  },
  {
   "cell_type": "code",
   "execution_count": 2,
   "metadata": {},
   "outputs": [],
   "source": [
    "model = load_model('ben.h5')"
   ]
  },
  {
   "cell_type": "code",
   "execution_count": 3,
   "metadata": {},
   "outputs": [],
   "source": [
    "face_cascade = cv2.CascadeClassifier('haarcascade_frontalface_default.xml')"
   ]
  },
  {
   "cell_type": "code",
   "execution_count": 4,
   "metadata": {},
   "outputs": [],
   "source": [
    "def face_extractor(img):\n",
    "    faces = face_cascade.detectMultiScale(img, scaleFactor = 1.5,\n",
    "                                         minNeighbors = 3)\n",
    "    if faces is():\n",
    "        return None\n",
    "    for(x,y,w,h) in faces:\n",
    "        cv2.rectangle(img,(x,y),(x+w,y+h),(255,0,0),2)\n",
    "        cropped_face = img[y:y+h, x:x+w]\n",
    "    return cropped_face"
   ]
  },
  {
   "cell_type": "code",
   "execution_count": null,
   "metadata": {},
   "outputs": [],
   "source": [
    "video_capture = cv2.VideoCapture(0)\n",
    "while True:\n",
    "    _, frame = video_capture.read()\n",
    "    #frame = cv2.flip(frame,1)\n",
    "    face = face_extractor(frame)\n",
    "    if type(face) is np.ndarray:\n",
    "        face = cv2.resize(face, (224,224))\n",
    "        im = Image.fromarray(face, 'RGB')\n",
    "        img_array = np.array(im)\n",
    "        img_array = np.expand_dims(img_array, axis=0)\n",
    "        pred = model.predict(img_array)\n",
    "        \n",
    "        name='None matching'\n",
    "        if(pred[0][1]>0.5):\n",
    "            name='Devkul'\n",
    "        cv2.putText(frame, name, (70, 170), \n",
    "                cv2.FONT_HERSHEY_SIMPLEX, 0.6, (240, 240, 240), 2)\n",
    "#         elif(pred[0][1]>0.5):\n",
    "#             name='Devkul Sahu'\n",
    "#         cv2.putText(frame, name, (70, 190), \n",
    "#                 cv2.FONT_HERSHEY_SIMPLEX, 0.6, (240, 240, 240), 2)\n",
    "#         elif(pred[0][2]>0.5):\n",
    "#             name='Madonna'\n",
    "#         cv2.putText(frame, name, (70, 210), \n",
    "#                 cv2.FONT_HERSHEY_SIMPLEX, 0.6, (240, 240, 240), 2)\n",
    "#         elif(pred[0][3]>0.5):\n",
    "#             name='Prasiddha'\n",
    "#         cv2.putText(frame, name, (70, 230), \n",
    "#                 cv2.FONT_HERSHEY_SIMPLEX, 0.6, (240, 240, 240), 2)\n",
    "#         elif(pred[0][4]>0.5):\n",
    "#             name='Sourabh'\n",
    "#         cv2.putText(frame, name, (70, 250), \n",
    "#                 cv2.FONT_HERSHEY_SIMPLEX, 0.6, (240, 240, 240), 2)\n",
    "        \n",
    "    else:\n",
    "        cv2.putText(frame, \"No Face Found\", (70, 150), \n",
    "                cv2.FONT_HERSHEY_SIMPLEX, 0.6, (240, 240, 240), 2)\n",
    "    cv2.imshow(\"Faces\", frame)\n",
    "    if cv2.waitKey(1) & 0xFF == ord('q'):\n",
    "        break\n",
    "video_capture.release()\n",
    "cv2.destroyAllWindows()"
   ]
  },
  {
   "cell_type": "code",
   "execution_count": null,
   "metadata": {},
   "outputs": [],
   "source": []
  }
 ],
 "metadata": {
  "kernelspec": {
   "display_name": "Python 3",
   "language": "python",
   "name": "python3"
  },
  "language_info": {
   "codemirror_mode": {
    "name": "ipython",
    "version": 3
   },
   "file_extension": ".py",
   "mimetype": "text/x-python",
   "name": "python",
   "nbconvert_exporter": "python",
   "pygments_lexer": "ipython3",
   "version": "3.7.4"
  }
 },
 "nbformat": 4,
 "nbformat_minor": 2
}
